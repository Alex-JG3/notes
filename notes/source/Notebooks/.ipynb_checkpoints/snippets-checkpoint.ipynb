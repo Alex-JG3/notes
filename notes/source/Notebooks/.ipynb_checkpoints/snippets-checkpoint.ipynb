{
 "cells": [
  {
   "cell_type": "markdown",
   "id": "e66d545b-5f7c-40cb-a396-892df7282631",
   "metadata": {},
   "source": [
    "# Snippets\n",
    "\n",
    "This is a compilation of useful code snippets.\n",
    "\n",
    "## Combine Overlapping Intervals in Pandas\n",
    "\n",
    "Suppose we have the start and end points of several intervals. How do we combine them if the intervals overlap?\n",
    "\n",
    "This solution is taken from https://stackoverflow.com/questions/57882621/efficient-merge-overlapping-intervals-in-same-pandas-dataframe-with-start-and-fi. Credit goes to users Dev Khadka and John Smith.\n",
    "\n",
    "Take the following example."
   ]
  },
  {
   "cell_type": "code",
   "execution_count": 32,
   "id": "6d79c1e9-24bf-4f2b-9a04-e10461f8c816",
   "metadata": {},
   "outputs": [],
   "source": [
    "import pandas as pd\n",
    "\n",
    "intervals = pd.DataFrame({\n",
    "    \"start_point\": [3, 5, 0, 10],\n",
    "    \"end_point\": [8, 7, 1, 11],\n",
    "})"
   ]
  },
  {
   "cell_type": "markdown",
   "id": "f8bd71d2-d3f8-4a5e-a848-e7d838cd0a33",
   "metadata": {},
   "source": [
    "The $[3, 6]$ and $[5, 7]$ intervals should be combined into $[3, 7]$. We will solve this by grouping the rows together if thier intervals overlap, then we select the minimum start point and maximum end point in each group.\n",
    "\n",
    "Sort by the start point."
   ]
  },
  {
   "cell_type": "code",
   "execution_count": 41,
   "id": "9e7631d9-6fa3-4e3e-b22a-22edf734afc0",
   "metadata": {},
   "outputs": [
    {
     "data": {
      "text/html": [
       "<div>\n",
       "<style scoped>\n",
       "    .dataframe tbody tr th:only-of-type {\n",
       "        vertical-align: middle;\n",
       "    }\n",
       "\n",
       "    .dataframe tbody tr th {\n",
       "        vertical-align: top;\n",
       "    }\n",
       "\n",
       "    .dataframe thead th {\n",
       "        text-align: right;\n",
       "    }\n",
       "</style>\n",
       "<table border=\"1\" class=\"dataframe\">\n",
       "  <thead>\n",
       "    <tr style=\"text-align: right;\">\n",
       "      <th></th>\n",
       "      <th>start_point</th>\n",
       "      <th>end_point</th>\n",
       "    </tr>\n",
       "  </thead>\n",
       "  <tbody>\n",
       "    <tr>\n",
       "      <th>0</th>\n",
       "      <td>0</td>\n",
       "      <td>1</td>\n",
       "    </tr>\n",
       "    <tr>\n",
       "      <th>1</th>\n",
       "      <td>3</td>\n",
       "      <td>8</td>\n",
       "    </tr>\n",
       "    <tr>\n",
       "      <th>2</th>\n",
       "      <td>5</td>\n",
       "      <td>7</td>\n",
       "    </tr>\n",
       "    <tr>\n",
       "      <th>3</th>\n",
       "      <td>10</td>\n",
       "      <td>11</td>\n",
       "    </tr>\n",
       "  </tbody>\n",
       "</table>\n",
       "</div>"
      ],
      "text/plain": [
       "   start_point  end_point\n",
       "0            0          1\n",
       "1            3          8\n",
       "2            5          7\n",
       "3           10         11"
      ]
     },
     "execution_count": 41,
     "metadata": {},
     "output_type": "execute_result"
    }
   ],
   "source": [
    "tmp = intervals.sort_values(\"start_point\").reset_index(drop=True)\n",
    "tmp"
   ]
  },
  {
   "cell_type": "markdown",
   "id": "8149bf5c-87ee-4115-9509-7c0f1914a621",
   "metadata": {},
   "source": [
    "Now, we compare start point $i$ with end point $i - 1$."
   ]
  },
  {
   "cell_type": "code",
   "execution_count": 42,
   "id": "43bd1130-ba66-45d0-9c50-ca62270603a6",
   "metadata": {},
   "outputs": [
    {
     "data": {
      "text/plain": [
       "0    NaN\n",
       "1    1.0\n",
       "2    8.0\n",
       "3    7.0\n",
       "Name: end_point, dtype: float64"
      ]
     },
     "execution_count": 42,
     "metadata": {},
     "output_type": "execute_result"
    }
   ],
   "source": [
    "tmp[\"end_point\"].shift()"
   ]
  },
  {
   "cell_type": "markdown",
   "id": "7581702c-abe3-4e48-987a-47aa9c2338d9",
   "metadata": {},
   "source": [
    "We can use this to tell where the overlapping intervals are. For example, in rows 1 the start point 3 is greater than 1 so the $0$-th and $1$-st intervals do not overlap. However, in row 2 the end point 8 is greater than the start point 5 so the $1$-st and $2$-nd intervals overlap.\n",
    "\n",
    "Row 3 interesting because the end point previous end point is greater than it. Since we sorted the start points, end an end point is less than its neighbour, we can guarantee it is contained within the interval. So, we include a `cummax`."
   ]
  },
  {
   "cell_type": "code",
   "execution_count": 49,
   "id": "2a96a6d0-4caf-4079-8bc7-044bb152cce1",
   "metadata": {},
   "outputs": [
    {
     "data": {
      "text/plain": [
       "0    0\n",
       "1    1\n",
       "2    1\n",
       "3    2\n",
       "dtype: int64"
      ]
     },
     "execution_count": 49,
     "metadata": {},
     "output_type": "execute_result"
    }
   ],
   "source": [
    "(tmp[\"start_point\"] > tmp[\"end_point\"].shift().cummax()).cumsum()"
   ]
  },
  {
   "cell_type": "markdown",
   "id": "b2321f65-26c0-43da-a8d0-f61add962d00",
   "metadata": {},
   "source": [
    "Now we can group together the intervals which overlap."
   ]
  },
  {
   "cell_type": "code",
   "execution_count": 53,
   "id": "6472bf95-259d-4c40-985c-186be9ad6bc4",
   "metadata": {},
   "outputs": [
    {
     "data": {
      "text/html": [
       "<div>\n",
       "<style scoped>\n",
       "    .dataframe tbody tr th:only-of-type {\n",
       "        vertical-align: middle;\n",
       "    }\n",
       "\n",
       "    .dataframe tbody tr th {\n",
       "        vertical-align: top;\n",
       "    }\n",
       "\n",
       "    .dataframe thead th {\n",
       "        text-align: right;\n",
       "    }\n",
       "</style>\n",
       "<table border=\"1\" class=\"dataframe\">\n",
       "  <thead>\n",
       "    <tr style=\"text-align: right;\">\n",
       "      <th></th>\n",
       "      <th>start_point</th>\n",
       "      <th>end_point</th>\n",
       "    </tr>\n",
       "  </thead>\n",
       "  <tbody>\n",
       "    <tr>\n",
       "      <th>0</th>\n",
       "      <td>0</td>\n",
       "      <td>1</td>\n",
       "    </tr>\n",
       "    <tr>\n",
       "      <th>1</th>\n",
       "      <td>3</td>\n",
       "      <td>8</td>\n",
       "    </tr>\n",
       "    <tr>\n",
       "      <th>2</th>\n",
       "      <td>10</td>\n",
       "      <td>11</td>\n",
       "    </tr>\n",
       "  </tbody>\n",
       "</table>\n",
       "</div>"
      ],
      "text/plain": [
       "   start_point  end_point\n",
       "0            0          1\n",
       "1            3          8\n",
       "2           10         11"
      ]
     },
     "execution_count": 53,
     "metadata": {},
     "output_type": "execute_result"
    }
   ],
   "source": [
    "groups = (tmp[\"start_point\"] > tmp[\"end_point\"].shift().cummax()).cumsum()\n",
    "tmp.groupby(groups).agg({\"start_point\": \"min\", \"end_point\": \"max\"})"
   ]
  },
  {
   "cell_type": "markdown",
   "id": "90711c5e-f3a7-4ecb-8b27-ba9204591ad7",
   "metadata": {},
   "source": [
    "Now we write this mathematically.\n",
    "\n",
    "Suppose we have a set of intervals $X = \\{ (l_1, r_1), (l_2, r_2), \\dots, (l_n, r_n)\\}$ that are sorted such that $l_1 \\leq l_2 \\leq \\dots \\leq l_n$. How do we find intervals that overlap and combine them?\n",
    "\n",
    "This has two steps:\n",
    "\n",
    "1. Group the intervals that overlap together.\n",
    "2. Find the minimum of left intervals and maximum of the right invervals for each group.\n",
    "\n",
    "Step 1 is the more difficult part. First not that if interval $i$ and $i + 1$ do not overlap then interval $i$ will not overlap with any interval $j$ where $j > i$. Since by definition $r_i < l_{i + 1} \\leq l_{i + 2} \\leq l_{i + 3} \\leq ... $. This means that we can group the intervals from left to right and guarantee that none of the intervals in a group toward the left will overlap an interval toward the right.\n",
    "\n",
    "We can find these groups of overlapping intervals by looking at interval $i$ and checking if it overlaps with interval $i + 1$. If it does not then it will not overlap with any intervals past $i + 1$ so interval $i$ and any of its preceeding overlapping intervals can be thought of as a group."
   ]
  },
  {
   "cell_type": "code",
   "execution_count": 67,
   "id": "83afb7d5-6cac-43d3-a8b7-a9ead6da1101",
   "metadata": {},
   "outputs": [
    {
     "ename": "SpecificationError",
     "evalue": "nested renamer is not supported",
     "output_type": "error",
     "traceback": [
      "\u001b[0;31m---------------------------------------------------------------------------\u001b[0m",
      "\u001b[0;31mSpecificationError\u001b[0m                        Traceback (most recent call last)",
      "Cell \u001b[0;32mIn[67], line 5\u001b[0m\n\u001b[1;32m      3\u001b[0m previous_end_point \u001b[38;5;241m=\u001b[39m tmp[\u001b[38;5;124m\"\u001b[39m\u001b[38;5;124mend_point\u001b[39m\u001b[38;5;124m\"\u001b[39m]\u001b[38;5;241m.\u001b[39mshift()\u001b[38;5;241m.\u001b[39mcummax()\n\u001b[1;32m      4\u001b[0m groups \u001b[38;5;241m=\u001b[39m (tmp[\u001b[38;5;124m\"\u001b[39m\u001b[38;5;124mstart_point\u001b[39m\u001b[38;5;124m\"\u001b[39m] \u001b[38;5;241m>\u001b[39m previous_end_point)\u001b[38;5;241m.\u001b[39mcumsum()\n\u001b[0;32m----> 5\u001b[0m \u001b[43mtmp\u001b[49m\u001b[38;5;241;43m.\u001b[39;49m\u001b[43mgroupby\u001b[49m\u001b[43m(\u001b[49m\u001b[43mgroups\u001b[49m\u001b[43m)\u001b[49m\u001b[43m[\u001b[49m\u001b[38;5;124;43m\"\u001b[39;49m\u001b[38;5;124;43mend_point\u001b[39;49m\u001b[38;5;124;43m\"\u001b[39;49m\u001b[43m]\u001b[49m\u001b[38;5;241;43m.\u001b[39;49m\u001b[43magg\u001b[49m\u001b[43m(\u001b[49m\u001b[43m{\u001b[49m\u001b[38;5;124;43m\"\u001b[39;49m\u001b[38;5;124;43mstart_point\u001b[39;49m\u001b[38;5;124;43m\"\u001b[39;49m\u001b[43m:\u001b[49m\u001b[43m \u001b[49m\u001b[38;5;124;43m\"\u001b[39;49m\u001b[38;5;124;43mmin\u001b[39;49m\u001b[38;5;124;43m\"\u001b[39;49m\u001b[43m,\u001b[49m\u001b[43m \u001b[49m\u001b[38;5;124;43m\"\u001b[39;49m\u001b[38;5;124;43mend_point\u001b[39;49m\u001b[38;5;124;43m\"\u001b[39;49m\u001b[43m:\u001b[49m\u001b[43m \u001b[49m\u001b[38;5;124;43m\"\u001b[39;49m\u001b[38;5;124;43mmax\u001b[39;49m\u001b[38;5;124;43m\"\u001b[39;49m\u001b[43m}\u001b[49m\u001b[43m)\u001b[49m\n",
      "File \u001b[0;32m~/documents/notes/.venv/lib/python3.10/site-packages/pandas/core/groupby/generic.py:257\u001b[0m, in \u001b[0;36mSeriesGroupBy.aggregate\u001b[0;34m(self, func, engine, engine_kwargs, *args, **kwargs)\u001b[0m\n\u001b[1;32m    255\u001b[0m kwargs[\u001b[38;5;124m\"\u001b[39m\u001b[38;5;124mengine\u001b[39m\u001b[38;5;124m\"\u001b[39m] \u001b[38;5;241m=\u001b[39m engine\n\u001b[1;32m    256\u001b[0m kwargs[\u001b[38;5;124m\"\u001b[39m\u001b[38;5;124mengine_kwargs\u001b[39m\u001b[38;5;124m\"\u001b[39m] \u001b[38;5;241m=\u001b[39m engine_kwargs\n\u001b[0;32m--> 257\u001b[0m ret \u001b[38;5;241m=\u001b[39m \u001b[38;5;28;43mself\u001b[39;49m\u001b[38;5;241;43m.\u001b[39;49m\u001b[43m_aggregate_multiple_funcs\u001b[49m\u001b[43m(\u001b[49m\u001b[43mfunc\u001b[49m\u001b[43m,\u001b[49m\u001b[43m \u001b[49m\u001b[38;5;241;43m*\u001b[39;49m\u001b[43margs\u001b[49m\u001b[43m,\u001b[49m\u001b[43m \u001b[49m\u001b[38;5;241;43m*\u001b[39;49m\u001b[38;5;241;43m*\u001b[39;49m\u001b[43mkwargs\u001b[49m\u001b[43m)\u001b[49m\n\u001b[1;32m    258\u001b[0m \u001b[38;5;28;01mif\u001b[39;00m relabeling:\n\u001b[1;32m    259\u001b[0m     \u001b[38;5;66;03m# columns is not narrowed by mypy from relabeling flag\u001b[39;00m\n\u001b[1;32m    260\u001b[0m     \u001b[38;5;28;01massert\u001b[39;00m columns \u001b[38;5;129;01mis\u001b[39;00m \u001b[38;5;129;01mnot\u001b[39;00m \u001b[38;5;28;01mNone\u001b[39;00m  \u001b[38;5;66;03m# for mypy\u001b[39;00m\n",
      "File \u001b[0;32m~/documents/notes/.venv/lib/python3.10/site-packages/pandas/core/groupby/generic.py:335\u001b[0m, in \u001b[0;36mSeriesGroupBy._aggregate_multiple_funcs\u001b[0;34m(self, arg, *args, **kwargs)\u001b[0m\n\u001b[1;32m    332\u001b[0m \u001b[38;5;28;01mif\u001b[39;00m \u001b[38;5;28misinstance\u001b[39m(arg, \u001b[38;5;28mdict\u001b[39m):\n\u001b[1;32m    333\u001b[0m     \u001b[38;5;28;01mif\u001b[39;00m \u001b[38;5;28mself\u001b[39m\u001b[38;5;241m.\u001b[39mas_index:\n\u001b[1;32m    334\u001b[0m         \u001b[38;5;66;03m# GH 15931\u001b[39;00m\n\u001b[0;32m--> 335\u001b[0m         \u001b[38;5;28;01mraise\u001b[39;00m SpecificationError(\u001b[38;5;124m\"\u001b[39m\u001b[38;5;124mnested renamer is not supported\u001b[39m\u001b[38;5;124m\"\u001b[39m)\n\u001b[1;32m    336\u001b[0m     \u001b[38;5;28;01melse\u001b[39;00m:\n\u001b[1;32m    337\u001b[0m         \u001b[38;5;66;03m# GH#50684 - This accidentally worked in 1.x\u001b[39;00m\n\u001b[1;32m    338\u001b[0m         msg \u001b[38;5;241m=\u001b[39m (\n\u001b[1;32m    339\u001b[0m             \u001b[38;5;124m\"\u001b[39m\u001b[38;5;124mPassing a dictionary to SeriesGroupBy.agg is deprecated \u001b[39m\u001b[38;5;124m\"\u001b[39m\n\u001b[1;32m    340\u001b[0m             \u001b[38;5;124m\"\u001b[39m\u001b[38;5;124mand will raise in a future version of pandas. Pass a list \u001b[39m\u001b[38;5;124m\"\u001b[39m\n\u001b[1;32m    341\u001b[0m             \u001b[38;5;124m\"\u001b[39m\u001b[38;5;124mof aggregations instead.\u001b[39m\u001b[38;5;124m\"\u001b[39m\n\u001b[1;32m    342\u001b[0m         )\n",
      "\u001b[0;31mSpecificationError\u001b[0m: nested renamer is not supported"
     ]
    }
   ],
   "source": [
    "tmp = intervals.sort_values(\"start_point\").reset_index(drop=True)\n",
    "\n",
    "previous_end_point = tmp[\"end_point\"].shift().cummax()\n",
    "groups = (tmp[\"start_point\"] > previous_end_point).cumsum()\n",
    "tmp.groupby(groups).agg({\"start_point\": \"min\", \"end_point\": \"max\"})"
   ]
  },
  {
   "cell_type": "code",
   "execution_count": null,
   "id": "3e3eadcc-5f74-46d8-85b1-e1a418becf1e",
   "metadata": {},
   "outputs": [],
   "source": []
  }
 ],
 "metadata": {
  "kernelspec": {
   "display_name": "Python 3 (ipykernel)",
   "language": "python",
   "name": "python3"
  },
  "language_info": {
   "codemirror_mode": {
    "name": "ipython",
    "version": 3
   },
   "file_extension": ".py",
   "mimetype": "text/x-python",
   "name": "python",
   "nbconvert_exporter": "python",
   "pygments_lexer": "ipython3",
   "version": "3.10.12"
  }
 },
 "nbformat": 4,
 "nbformat_minor": 5
}
