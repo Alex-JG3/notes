{
 "cells": [
  {
   "cell_type": "markdown",
   "id": "09cdc6eb-0334-41ec-a925-f5dc56221563",
   "metadata": {},
   "source": [
    "Python provides binary operators for working with integers.\n",
    "\n",
    "One can get the binary representation of an integer using an f-string."
   ]
  },
  {
   "cell_type": "code",
   "execution_count": 3,
   "id": "6ef79780-1654-4f4d-9258-87c920b1a514",
   "metadata": {},
   "outputs": [
    {
     "name": "stdout",
     "output_type": "stream",
     "text": [
      "1\n",
      "100\n",
      "1010\n"
     ]
    }
   ],
   "source": [
    "print(f\"{1:b}\")\n",
    "print(f\"{4:b}\")\n",
    "print(f\"{10:b}\")"
   ]
  },
  {
   "cell_type": "markdown",
   "id": "140e62b1-23a8-41cc-b44c-8ff4953ec85d",
   "metadata": {},
   "source": [
    "## Binary operators\n",
    "\n",
    "* `&` bitwise and: `2 & 3 = 0`"
   ]
  },
  {
   "cell_type": "code",
   "execution_count": 25,
   "id": "c7c8a145-0092-41f4-8f80-727e88000bfd",
   "metadata": {},
   "outputs": [
    {
     "name": "stdout",
     "output_type": "stream",
     "text": [
      "a : 2 : 10\n",
      "b : 3 : 11\n",
      "and : a & b : 2 : 10\n",
      "or  : a | b : 3 : 11\n",
      "xor : a ^ b : 1 : 1\n",
      "a ^ b : 1 : 1\n"
     ]
    }
   ],
   "source": [
    "a, b = 2, 3\n",
    "print(f\"a : {a} : {a:b}\")\n",
    "print(f\"b : {b} : {b:b}\")\n",
    "print(f\"and : a & b : {a & b} : {a & b:b}\")\n",
    "print(f\"or  : a | b : {a | b} : {a | b:b}\")\n",
    "print(f\"xor : a ^ b : {a ^ b} : {a ^ b:b}\")\n",
    "print(f\"a ^ b : {a ^ b} : {a ^ b:b}\")"
   ]
  },
  {
   "cell_type": "markdown",
   "id": "bff1301e-4053-4ef8-8a56-0761f8a145ea",
   "metadata": {},
   "source": [
    "# Queen"
   ]
  }
 ],
 "metadata": {
  "kernelspec": {
   "display_name": "Python 3 (ipykernel)",
   "language": "python",
   "name": "python3"
  },
  "language_info": {
   "codemirror_mode": {
    "name": "ipython",
    "version": 3
   },
   "file_extension": ".py",
   "mimetype": "text/x-python",
   "name": "python",
   "nbconvert_exporter": "python",
   "pygments_lexer": "ipython3",
   "version": "3.10.12"
  }
 },
 "nbformat": 4,
 "nbformat_minor": 5
}
