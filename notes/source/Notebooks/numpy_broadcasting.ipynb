{
 "cells": [
  {
   "cell_type": "markdown",
   "id": "0213bfce-de02-40b4-91b4-240fd38c4219",
   "metadata": {},
   "source": [
    "# Broadcasting in Numpy"
   ]
  },
  {
   "cell_type": "code",
   "execution_count": 15,
   "id": "00b51432-f55f-4837-82bf-0b72a2742489",
   "metadata": {
    "tags": []
   },
   "outputs": [],
   "source": [
    "import numpy as np"
   ]
  },
  {
   "cell_type": "markdown",
   "id": "92910f7a-d674-4420-8188-b7c1df3e35ca",
   "metadata": {},
   "source": [
    "## Taking the mean from each row\n",
    "\n",
    "If mean have a matrix of shape (2, 3). Using `numpy.mean`, we can get the mean of each row as a vector with shape (2). In number, we cannot take the vector from the matrix as the shapes are not broadcastable. Numpy checks it two arrays are broadcastable by looking from the right-most dimension to the left. The arrays are broadcastable if:\n",
    "\n",
    "1. The dimensions are equal, or\n",
    "2. One of the dimensions is 1.\n",
    "\n",
    "In our example, the array and vector are not broadastable since the right-most dimensions, 3 and 2, are not broadcastable. We can make the arrays broadcastable by adding a dimension to the vector on the right. This means the matrix has shape (2, 3) and the vector has shape (2, 1): 2 is broadcastable to 2 and 3 is broadcastable to 1."
   ]
  },
  {
   "cell_type": "code",
   "execution_count": 26,
   "id": "617b7d79-7edc-47d4-9270-158fdd0df9fe",
   "metadata": {
    "tags": []
   },
   "outputs": [
    {
     "name": "stdout",
     "output_type": "stream",
     "text": [
      "operands could not be broadcast together with shapes (2,3) (2,) \n",
      "[[ 1.  0. -1.]\n",
      " [ 1.  0. -1.]]\n"
     ]
    }
   ],
   "source": [
    "x = np.array([\n",
    "    [1, 0, -1],\n",
    "    [3, 2, 1]\n",
    "])\n",
    "\n",
    "mean = x.mean(axis=1)  # Array with shape (3,)\n",
    "try:\n",
    "    x - mean\n",
    "except ValueError as e:\n",
    "    print(e)\n",
    "\n",
    "mean = mean[:, None]  # Array with shape (2, 1) \n",
    "\n",
    "print(x - mean)"
   ]
  },
  {
   "cell_type": "markdown",
   "id": "b4d01699-68b6-4b65-93bc-2900380d50e5",
   "metadata": {},
   "source": [
    "## Taking the mean from each column\n",
    "\n",
    "In this case, if we find the mean of column and store then in a vector with shape (3,), this is broadcastable with original array since the right most dimensions are the same.\n",
    "\n",
    "What about the first dimension?\n",
    "\n",
    "If there are not the same number of dimensions, you can think of numpy filling the missing dimensions with ones."
   ]
  },
  {
   "cell_type": "code",
   "execution_count": 35,
   "id": "a454ad43-3a2f-41e3-8599-73ddc53f6e30",
   "metadata": {
    "tags": []
   },
   "outputs": [
    {
     "name": "stdout",
     "output_type": "stream",
     "text": [
      "[[-1. -1. -1.]\n",
      " [ 1.  1.  1.]]\n",
      "\n",
      "[[-1. -1. -1.]\n",
      " [ 1.  1.  1.]]\n"
     ]
    }
   ],
   "source": [
    "x = np.array([\n",
    "    [1, 0, -1],\n",
    "    [3, 2, 1]\n",
    "])\n",
    "\n",
    "mean = x.mean(axis=0)  # Array with shape (2,)\n",
    "print(x - mean, end=\"\\n\\n\")\n",
    "\n",
    "mean = mean[None, :]\n",
    "print(x - mean)"
   ]
  },
  {
   "cell_type": "markdown",
   "id": "210b6ab0-ee45-43a2-bce5-66fd24fca359",
   "metadata": {},
   "source": [
    "## Example from one point to every other point\n",
    "\n",
    "Suppose we want to find the euclidean distance from one point to every other point."
   ]
  },
  {
   "cell_type": "code",
   "execution_count": 39,
   "id": "987b87ae-b68c-400e-aed5-854386a11261",
   "metadata": {
    "tags": []
   },
   "outputs": [
    {
     "data": {
      "text/plain": [
       "array([0.        , 1.        , 1.41421356])"
      ]
     },
     "execution_count": 39,
     "metadata": {},
     "output_type": "execute_result"
    }
   ],
   "source": [
    "x = np.array([1.0, 1.0])\n",
    "\n",
    "y = np.array([\n",
    "    [1.0, 1.0],\n",
    "    [1.0, 2.0],\n",
    "    [0.0, 0.0],\n",
    "])\n",
    "\n",
    "((x[None, :] - y) ** 2).sum(axis=1) ** (0.5)"
   ]
  },
  {
   "cell_type": "markdown",
   "id": "514ff685-a675-4e11-859c-231f68424feb",
   "metadata": {},
   "source": [
    "How to we work out the distance from every point in $y$ to every other point in $y$? The non-trivial part is the substraction, this is where we take advantage of broadcasting. The solution is,\n",
    "\n",
    "$$\n",
    "\\begin{align}\n",
    "    y[3 \\times 1 \\times 2] - y[1 \\times 3 \\times 2].\n",
    "\\end{align}\n",
    "$$\n",
    "\n",
    "Why does this work? The final shape will be (3, 3, 2) which is what we want. To make it so the arrays can be taken away from one another. Think of the dimensions where the shape is 1 being stretched to match the other matrix. So the second dimension for the array on the left is stretched to have shape 3.\n",
    "\n",
    "What is put in the extra entries? The elements in the dimensions right of the one we are stretching are essentially copied. So, for the array on the left, since the second dimension is being stretched, the third dimension will be copied to fill in the gaps."
   ]
  },
  {
   "cell_type": "code",
   "execution_count": 62,
   "id": "92ebb589-e0af-47a7-956b-02d7c31600fb",
   "metadata": {
    "tags": []
   },
   "outputs": [
    {
     "data": {
      "text/plain": [
       "array([[[ 0.,  0.],\n",
       "        [ 0., -1.],\n",
       "        [ 1.,  1.]],\n",
       "\n",
       "       [[ 0.,  1.],\n",
       "        [ 0.,  0.],\n",
       "        [ 1.,  2.]],\n",
       "\n",
       "       [[-1., -1.],\n",
       "        [-1., -2.],\n",
       "        [ 0.,  0.]]])"
      ]
     },
     "execution_count": 62,
     "metadata": {},
     "output_type": "execute_result"
    }
   ],
   "source": [
    "(y[:, None, :] - y[None, :, :])"
   ]
  },
  {
   "cell_type": "markdown",
   "id": "8a88477b-f7f1-48a2-9fac-be46da9f43be",
   "metadata": {
    "tags": []
   },
   "source": [
    "So the left matrix contains three (3, 2) matrix that only contain copies of one of the rows. The matrix on the right has the original (3, 2) matrix copied three times.\n",
    "\n",
    "Let us now calculate all the distances."
   ]
  },
  {
   "cell_type": "code",
   "execution_count": 67,
   "id": "984bc9dd-0b76-47f2-b174-0359b283349b",
   "metadata": {
    "tags": []
   },
   "outputs": [
    {
     "data": {
      "text/plain": [
       "array([[0.        , 1.        , 1.41421356],\n",
       "       [1.        , 0.        , 2.23606798],\n",
       "       [1.41421356, 2.23606798, 0.        ]])"
      ]
     },
     "execution_count": 67,
     "metadata": {},
     "output_type": "execute_result"
    }
   ],
   "source": [
    "((y[:, None, :] - y[None, :, :]) ** 2).sum(axis=2) ** (0.5)"
   ]
  }
 ],
 "metadata": {
  "kernelspec": {
   "display_name": "Python 3 (ipykernel)",
   "language": "python",
   "name": "python3"
  },
  "language_info": {
   "codemirror_mode": {
    "name": "ipython",
    "version": 3
   },
   "file_extension": ".py",
   "mimetype": "text/x-python",
   "name": "python",
   "nbconvert_exporter": "python",
   "pygments_lexer": "ipython3",
   "version": "3.10.11"
  }
 },
 "nbformat": 4,
 "nbformat_minor": 5
}
