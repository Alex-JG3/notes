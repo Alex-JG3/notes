{
 "cells": [
  {
   "cell_type": "markdown",
   "id": "e66d545b-5f7c-40cb-a396-892df7282631",
   "metadata": {},
   "source": [
    "# Snippets\n",
    "\n",
    "This is a compilation of useful code snippets.\n",
    "\n",
    "## Combine Overlapping Intervals in Pandas\n",
    "\n",
    "This solution is taken from https://stackoverflow.com/questions/57882621/efficient-merge-overlapping-intervals-in-same-pandas-dataframe-with-start-and-fi. Credit goes to users Dev Khadka and John Smith. First we describe the problem and present a solution mathematically.\n",
    "\n",
    "Suppose we have a set of intervals $X = \\{ (l_1, r_1), (l_2, r_2), \\dots (l_n, r_n)\\}$ that are left sorted i.e $l_1 \\leq l_2 \\leq \\dots \\leq l_n$. Combine overlaping intervals.\n",
    "\n",
    "**Example**\n",
    "\n",
    "$$\n",
    "    X = \\{ (0, 5), (1, 4), (8, 9) \\}\n",
    "$$\n",
    "\n",
    "Combining the overlapping intervals produces:\n",
    "\n",
    "$$\n",
    "    \\hat{X} = \\{ (0, 5), (8, 9) \\}\n",
    "$$\n",
    "\n",
    "**Solution**\n",
    "\n",
    "Interval $i$ and $i + 1$ overlap if $r_i \\geq l_{i + 1}$, they do not overlap if $r_i < l_{i + 1}$. If intervals $i$ and $i + 1$ do not overlap, this also means interval $i$ does not overlap with interval $j$ where $j > i$ since $r_i < l_i \\leq l_{i + 1} \\leq l_{i + 2} \\leq \\dots \\leq l_n$. Perhaps a property like this could be used to find groups of overlapping intervals by looping through each interval, testing if it overlaps its neighbour and if not, marking is as the end of a group of overlapping intervals. Here is an example where this will not work.\n",
    "\n",
    "$$\n",
    "X = \\{ (0, 5), (1, 2), (4, 6) \\}\n",
    "$$\n",
    "\n",
    "All three intervals overlap but if we followed our algorithm, intervals 1 and 2 would be in same group since $5 > 1$ but intervals 2 and 3 do not overlap since $2 < 4$. So, we would have two groups of overlapping intervals. To summarise, if intervals $i$ and $i + 1$ do not overlap there may still be an interval $j$ where $j < i$ that overlaps with intervals $i + 1$.\n",
    "\n",
    "Our simple algorithm would work if the right boundaries were monotonically increasing i.e. $r_1 \\leq r_2 \\leq \\dots \\leq r_n$. This would mean that if intervals $i$ and $i + 1$ do not overlap then no interval $j$ where $j < i$ would overlap either since $l_{i + 1} > r_{i} \\geq r_{i - 1} \\geq \\dots \\geq r_{1}$.\n",
    "\n",
    "To get our algorithm to work, we need to modify the right boundaries while still guaranteeing that the final intervals we end up with after combining are the same.\n",
    "\n",
    "Suppose we find that intervals $i, i + 1, \\dots, j$ overlap where $j \\geq i$ and these intervals do not overlap with any others in the set. By definition, this means $r_{i - 1} < l_i$. The right bounday when the intervals are combined is $\\max(r_i, r_{i + 1}, \\dots, r_{j})$. Since the interval group does not overlap with any others, this means $\\max(r_i, r_{i + 1}, \\dots, r_{j}) = \\max(r_1, r_2, \\dots, r_{j})$. If there was some $r_k$ where $k < i$ such that $\\max(r_i, r_{i + 1, \\dots r_j}) < r_k$ this would mean that interval $k$ would overlap at least one of intervals $i, i + 1, \\dots, j$ which is not true by definition.\n",
    "\n",
    "This means we can change the right boudaries $r_1, r_2, \\dots, r_n$ to be the cumulative maximum, i.e. $\\max(r_1), \\max(r_1, r_2), \\dots, \\max(r_1, r_2, \\dots, r_n)$ respectively and still get the same intervals when we combine them. Since for any complete group of overlapping intervals, $Y = \\{ (l_i, r_i), (l_{i + 1}, r_{i + 1}), \\dots, (l_j, r_j) \\}$, the combined right interval $\\max(r_i, r_{i + 1}, \\dots, r_{j})$ is equivalent to $\\max(r_1, r_2, \\dots, r_j)$.\n",
    "\n",
    "Now we we can code this up."
   ]
  },
  {
   "cell_type": "code",
   "execution_count": 30,
   "id": "6d79c1e9-24bf-4f2b-9a04-e10461f8c816",
   "metadata": {},
   "outputs": [
    {
     "data": {
      "text/html": [
       "<div>\n",
       "<style scoped>\n",
       "    .dataframe tbody tr th:only-of-type {\n",
       "        vertical-align: middle;\n",
       "    }\n",
       "\n",
       "    .dataframe tbody tr th {\n",
       "        vertical-align: top;\n",
       "    }\n",
       "\n",
       "    .dataframe thead th {\n",
       "        text-align: right;\n",
       "    }\n",
       "</style>\n",
       "<table border=\"1\" class=\"dataframe\">\n",
       "  <thead>\n",
       "    <tr style=\"text-align: right;\">\n",
       "      <th></th>\n",
       "      <th>start_point</th>\n",
       "      <th>end_point</th>\n",
       "    </tr>\n",
       "  </thead>\n",
       "  <tbody>\n",
       "    <tr>\n",
       "      <th>0</th>\n",
       "      <td>0</td>\n",
       "      <td>1</td>\n",
       "    </tr>\n",
       "    <tr>\n",
       "      <th>1</th>\n",
       "      <td>3</td>\n",
       "      <td>8</td>\n",
       "    </tr>\n",
       "    <tr>\n",
       "      <th>2</th>\n",
       "      <td>5</td>\n",
       "      <td>7</td>\n",
       "    </tr>\n",
       "    <tr>\n",
       "      <th>3</th>\n",
       "      <td>10</td>\n",
       "      <td>11</td>\n",
       "    </tr>\n",
       "  </tbody>\n",
       "</table>\n",
       "</div>"
      ],
      "text/plain": [
       "   start_point  end_point\n",
       "0            0          1\n",
       "1            3          8\n",
       "2            5          7\n",
       "3           10         11"
      ]
     },
     "execution_count": 30,
     "metadata": {},
     "output_type": "execute_result"
    }
   ],
   "source": [
    "import pandas as pd\n",
    "\n",
    "intervals = pd.DataFrame({\n",
    "    \"start_point\": [3, 5, 0, 10],\n",
    "    \"end_point\": [8, 7, 1, 11],\n",
    "})\n",
    "intervals = intervals.sort_values(\"start_point\").reset_index(drop=True)\n",
    "intervals"
   ]
  },
  {
   "cell_type": "markdown",
   "id": "f8bd71d2-d3f8-4a5e-a848-e7d838cd0a33",
   "metadata": {},
   "source": [
    "Find the cumulative maximum of the right intervals."
   ]
  },
  {
   "cell_type": "code",
   "execution_count": 31,
   "id": "9e7631d9-6fa3-4e3e-b22a-22edf734afc0",
   "metadata": {},
   "outputs": [
    {
     "data": {
      "text/plain": [
       "0     1\n",
       "1     8\n",
       "2     8\n",
       "3    11\n",
       "Name: end_point, dtype: int64"
      ]
     },
     "execution_count": 31,
     "metadata": {},
     "output_type": "execute_result"
    }
   ],
   "source": [
    "cummax = intervals[\"end_point\"].cummax()\n",
    "cummax"
   ]
  },
  {
   "cell_type": "markdown",
   "id": "44c6b984-0334-4884-9383-129ec396cc96",
   "metadata": {},
   "source": [
    "Find where points where interval $i$ does not overlap with $i + 1$ by comparing $r_i$ with $l_{i + 1}$."
   ]
  },
  {
   "cell_type": "code",
   "execution_count": 32,
   "id": "348ff50b-38f2-4e77-8918-16e7964c698f",
   "metadata": {},
   "outputs": [
    {
     "data": {
      "text/plain": [
       "0    False\n",
       "1     True\n",
       "2    False\n",
       "3     True\n",
       "dtype: bool"
      ]
     },
     "execution_count": 32,
     "metadata": {},
     "output_type": "execute_result"
    }
   ],
   "source": [
    "does_overlap = intervals[\"start_point\"] > cummax.shift()\n",
    "does_overlap"
   ]
  },
  {
   "cell_type": "markdown",
   "id": "8149bf5c-87ee-4115-9509-7c0f1914a621",
   "metadata": {},
   "source": [
    "True means that intervals $i$ does not overlap with interval $i - 1$ i.e. true indicates the start of a new group of overlapping intervals.\n",
    "\n",
    "Assign a unique integer to each overlapping group of intervals."
   ]
  },
  {
   "cell_type": "code",
   "execution_count": 33,
   "id": "43bd1130-ba66-45d0-9c50-ca62270603a6",
   "metadata": {},
   "outputs": [
    {
     "data": {
      "text/plain": [
       "0    0\n",
       "1    1\n",
       "2    1\n",
       "3    2\n",
       "dtype: int64"
      ]
     },
     "execution_count": 33,
     "metadata": {},
     "output_type": "execute_result"
    }
   ],
   "source": [
    "groups = does_overlap.cumsum()\n",
    "groups"
   ]
  },
  {
   "cell_type": "markdown",
   "id": "5ceb0575-f637-4ad1-8984-0d2412f14153",
   "metadata": {},
   "source": [
    "Find the start and end point of each group of overlapping intervals."
   ]
  },
  {
   "cell_type": "code",
   "execution_count": 36,
   "id": "d1a9bf48-3c7e-4a5f-92af-4078579e9644",
   "metadata": {},
   "outputs": [
    {
     "data": {
      "text/html": [
       "<div>\n",
       "<style scoped>\n",
       "    .dataframe tbody tr th:only-of-type {\n",
       "        vertical-align: middle;\n",
       "    }\n",
       "\n",
       "    .dataframe tbody tr th {\n",
       "        vertical-align: top;\n",
       "    }\n",
       "\n",
       "    .dataframe thead th {\n",
       "        text-align: right;\n",
       "    }\n",
       "</style>\n",
       "<table border=\"1\" class=\"dataframe\">\n",
       "  <thead>\n",
       "    <tr style=\"text-align: right;\">\n",
       "      <th></th>\n",
       "      <th>start_point</th>\n",
       "      <th>end_point</th>\n",
       "    </tr>\n",
       "    <tr>\n",
       "      <th>groups</th>\n",
       "      <th></th>\n",
       "      <th></th>\n",
       "    </tr>\n",
       "  </thead>\n",
       "  <tbody>\n",
       "    <tr>\n",
       "      <th>0</th>\n",
       "      <td>0</td>\n",
       "      <td>1</td>\n",
       "    </tr>\n",
       "    <tr>\n",
       "      <th>1</th>\n",
       "      <td>3</td>\n",
       "      <td>8</td>\n",
       "    </tr>\n",
       "    <tr>\n",
       "      <th>2</th>\n",
       "      <td>10</td>\n",
       "      <td>11</td>\n",
       "    </tr>\n",
       "  </tbody>\n",
       "</table>\n",
       "</div>"
      ],
      "text/plain": [
       "        start_point  end_point\n",
       "groups                        \n",
       "0                 0          1\n",
       "1                 3          8\n",
       "2                10         11"
      ]
     },
     "execution_count": 36,
     "metadata": {},
     "output_type": "execute_result"
    }
   ],
   "source": [
    "tmp = intervals.copy()\n",
    "tmp[\"groups\"] = groups\n",
    "tmp.groupby(\"groups\").agg({\"start_point\": \"min\", \"end_point\": \"max\"})"
   ]
  },
  {
   "cell_type": "markdown",
   "id": "23900f9f-c863-4619-96bb-3d62846f1ec2",
   "metadata": {},
   "source": [
    "Not we can summarise this in a function."
   ]
  },
  {
   "cell_type": "code",
   "execution_count": 45,
   "id": "8725b3fd-82e9-4080-9d25-fdc149c7f15f",
   "metadata": {},
   "outputs": [
    {
     "data": {
      "text/html": [
       "<div>\n",
       "<style scoped>\n",
       "    .dataframe tbody tr th:only-of-type {\n",
       "        vertical-align: middle;\n",
       "    }\n",
       "\n",
       "    .dataframe tbody tr th {\n",
       "        vertical-align: top;\n",
       "    }\n",
       "\n",
       "    .dataframe thead th {\n",
       "        text-align: right;\n",
       "    }\n",
       "</style>\n",
       "<table border=\"1\" class=\"dataframe\">\n",
       "  <thead>\n",
       "    <tr style=\"text-align: right;\">\n",
       "      <th></th>\n",
       "      <th>start_point</th>\n",
       "      <th>end_point</th>\n",
       "    </tr>\n",
       "    <tr>\n",
       "      <th>groups</th>\n",
       "      <th></th>\n",
       "      <th></th>\n",
       "    </tr>\n",
       "  </thead>\n",
       "  <tbody>\n",
       "    <tr>\n",
       "      <th>0</th>\n",
       "      <td>0</td>\n",
       "      <td>1</td>\n",
       "    </tr>\n",
       "    <tr>\n",
       "      <th>1</th>\n",
       "      <td>3</td>\n",
       "      <td>8</td>\n",
       "    </tr>\n",
       "    <tr>\n",
       "      <th>2</th>\n",
       "      <td>10</td>\n",
       "      <td>11</td>\n",
       "    </tr>\n",
       "  </tbody>\n",
       "</table>\n",
       "</div>"
      ],
      "text/plain": [
       "        start_point  end_point\n",
       "groups                        \n",
       "0                 0          1\n",
       "1                 3          8\n",
       "2                10         11"
      ]
     },
     "execution_count": 45,
     "metadata": {},
     "output_type": "execute_result"
    }
   ],
   "source": [
    "def combine_overlapping_intervals(df):\n",
    "    df = df.sort_values(\"start_point\")\n",
    "    df[\"groups\"] = (df[\"start_point\"] > df[\"end_point\"].cummax().shift()).cumsum()\n",
    "    new_intervals = df.groupby(\"groups\").agg({\"start_point\": \"min\", \"end_point\": \"max\"})\n",
    "    return new_intervals\n",
    "\n",
    "combine_overlapping_intervals(intervals)"
   ]
  }
 ],
 "metadata": {
  "kernelspec": {
   "display_name": "Python 3 (ipykernel)",
   "language": "python",
   "name": "python3"
  },
  "language_info": {
   "codemirror_mode": {
    "name": "ipython",
    "version": 3
   },
   "file_extension": ".py",
   "mimetype": "text/x-python",
   "name": "python",
   "nbconvert_exporter": "python",
   "pygments_lexer": "ipython3",
   "version": "3.10.12"
  }
 },
 "nbformat": 4,
 "nbformat_minor": 5
}
